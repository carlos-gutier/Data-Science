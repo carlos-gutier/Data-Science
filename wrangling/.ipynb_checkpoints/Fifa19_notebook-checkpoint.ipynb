{
 "cells": [
  {
   "cell_type": "code",
   "execution_count": 135,
   "metadata": {},
   "outputs": [],
   "source": [
    "import pandas as pd\n",
    "import numpy as np\n",
    "import json\n",
    "from sklearn.preprocessing import LabelEncoder"
   ]
  },
  {
   "cell_type": "code",
   "execution_count": 136,
   "metadata": {},
   "outputs": [],
   "source": [
    "pd.set_option('display.max_rows', 1000)\n",
    "pd.set_option('display.max_columns', 500)\n",
    "pd.set_option('display.width', 1000)"
   ]
  },
  {
   "cell_type": "code",
   "execution_count": 138,
   "metadata": {},
   "outputs": [],
   "source": [
    "# reading JSON file\n",
    "test_team = json.loads(json_blob)\n",
    "df_json = pd.DataFrame(test_team)"
   ]
  },
  {
   "cell_type": "code",
   "execution_count": 139,
   "metadata": {},
   "outputs": [],
   "source": [
    "# Entire Fifa19 dataframe\n",
    "#data = pd.read_csv('/app/data/players_data.csv')\n",
    "data = pd.read_csv('players_data.csv')"
   ]
  },
  {
   "cell_type": "code",
   "execution_count": 143,
   "metadata": {},
   "outputs": [],
   "source": [
    "df_teams = df_json"
   ]
  },
  {
   "cell_type": "markdown",
   "metadata": {},
   "source": [
    "### Getting Club players"
   ]
  },
  {
   "cell_type": "code",
   "execution_count": 145,
   "metadata": {},
   "outputs": [],
   "source": [
    "def get_club_players(df_teams):\n",
    "    \n",
    "    df_club_list = df_teams[['Name','Position','OvervalueRatio','Overall','Potential','Wage']]\n",
    "    \n",
    "    sort_club_list = df_club_list.sort_values(by='OvervalueRatio', ascending=False)\n",
    "\n",
    "    df_top_2_rated_players = sort_club_list.head(2)\n",
    "\n",
    "    df_bottom_2_rated_players = sort_club_list.tail(2)\n",
    "\n",
    "    return df_club_list, df_top_2_rated_players, df_bottom_2_rated_players\n",
    "    "
   ]
  },
  {
   "cell_type": "code",
   "execution_count": 148,
   "metadata": {},
   "outputs": [],
   "source": [
    "df_attributes = data[['FieldPositionNum', 'Overall', 'Potential', 'Crossing', 'Finishing', \n",
    "                          'HeadingAccuracy', 'ShortPassing', 'Volleys', 'Dribbling', 'Curve',\n",
    "                          'FKAccuracy', 'LongPassing', 'BallControl', 'Acceleration', 'SprintSpeed', \n",
    "                          'Agility', 'Reactions', 'Balance', 'ShotPower', 'Jumping', 'Stamina', \n",
    "                          'Strength', 'LongShots', 'Aggression', 'Interceptions', 'Positioning', \n",
    "                          'Vision', 'Penalties', 'Composure', 'Marking']]"
   ]
  },
  {
   "cell_type": "markdown",
   "metadata": {},
   "source": [
    "### Recommender System"
   ]
  },
  {
   "cell_type": "code",
   "execution_count": 149,
   "metadata": {},
   "outputs": [],
   "source": [
    "# Create function that uses above 'suggested' variables to output x players to potentially obtain by trade\n",
    "# for df_attributes dataframe, see above cells\n",
    "\n",
    "def get_suggested_trades(df_teams):  # player argument changed to 'club', after get_club_players refactored\n",
    "    trades_p1 = []  # this will be the output object that club_suggested_changes receives/uses\n",
    "    trades_p2 = []\n",
    "    players_wages = []\n",
    "\n",
    "    all_players, top_2, bottom_2 = get_club_players(df_teams)  # df_club_list, df_top_2_players, df_bottom_2_players\n",
    "\n",
    "    # looping throught 2 player names in 'top_2'\n",
    "    for idx, player in enumerate(top_2.Name):\n",
    "\n",
    "        # getting 'index' for player in 'df_teams' DF\n",
    "        input_player_index = df_teams[df_teams['Name']==player].index.values[0]\n",
    "\n",
    "        # getting the 'Overall', 'Potential', and 'Field Position Num'\n",
    "        p_overall = df_teams.iloc[input_player_index]['Overall']\n",
    "        p_potential = df_teams.iloc[input_player_index]['Potential']\n",
    "        p_position = df_teams.iloc[input_player_index]['FieldPositionNum']\n",
    "\n",
    "        # getting 'Wage' for player in 'df_teams' DF\n",
    "        # to be used later for 'Post-trade Leftover Wage' in returned DF\n",
    "        input_player_wage = df_teams.iloc[input_player_index]['Wage']\n",
    "        players_wages.append(input_player_wage)\n",
    "\n",
    "        # getting 'row' for same player in 'df_attributes' using index (No 'Name' col in 'df_attributes')\n",
    "        player_attributes = df_attributes.iloc[input_player_index]\n",
    "\n",
    "        # filtering attributes logic:\n",
    "        filtered_attributes = df_attributes[(df_attributes['Overall'] > p_overall-10) \n",
    "                                        & (df_attributes['Potential'] > p_potential-10)\n",
    "                                        & (df_attributes['FieldPositionNum'] == p_position)]\n",
    "\n",
    "        # use filter logic to suggest replacement players - top 5 suggested\n",
    "        # gives DF of with all indexes and correlation ratio\n",
    "        suggested_players = filtered_attributes.corrwith(player_attributes, axis=1)\n",
    "\n",
    "        # Top 2 suggested players (most positively correlated)\n",
    "        suggested_players = suggested_players.sort_values(ascending=False).head(6)\n",
    "\n",
    "        cols = ['Name', 'Position', 'OvervalueRatio', 'Overall', 'Potential', 'Wage']\n",
    "        for i, corr in enumerate(suggested_players):\n",
    "            if idx == 0:\n",
    "                # player 1 - suggested trades\n",
    "                trades_p1.append(data[data.index==suggested_players.index[i]][cols].values)\n",
    "            else:\n",
    "                # player 2 - suggested trades                 \n",
    "                trades_p2.append(data[data.index==suggested_players.index[i]][cols].values)\n",
    "\n",
    "    cols1 = ['Name', 'Position', 'OvervalueRatio', 'Overall', 'Potential', 'Wage']\n",
    "    # suggested trades DF for player 1 - dropping 1st row (most positively correlated = same as player 1)\n",
    "    trades_p1_df = pd.DataFrame(np.row_stack(trades_p1), columns=cols1)\n",
    "    trades_p1_df = trades_p1_df.drop(trades_p1_df.index[0]).reset_index(drop=True)\n",
    "    \n",
    "    # suggested trades DF for player 2 - dropping 1st row (most positively correlated = same as player 2)\n",
    "    trades_p2_df = pd.DataFrame(np.row_stack(trades_p2), columns=cols1)\n",
    "    trades_p2_df = trades_p2_df.drop(trades_p2_df.index[0]).reset_index(drop=True)\n",
    "    \n",
    "    #adding 'Post-trade Leftover Wage' column to each returned DF\n",
    "    trades_p1_df['Post-tradeLeftoverWage'] = players_wages[0] - trades_p1_df['Wage']\n",
    "    trades_p2_df['Post-tradeLeftoverWage'] = players_wages[1] - trades_p2_df['Wage']\n",
    "    \n",
    "    return top_2, bottom_2, trades_p1_df, trades_p2_df"
   ]
  },
  {
   "cell_type": "code",
   "execution_count": 153,
   "metadata": {},
   "outputs": [],
   "source": [
    "# See comment line inside of function just below\n",
    "def get_replacement_players(df_teams):\n",
    "    '''Gets 2 lowest-rated players, and suggests four possible replacements.'''\n",
    "    replacements_p1 = []  # this will be the output object that club_suggested_changes receives/uses\n",
    "    replacements_p2 = []\n",
    "    players_wages = []\n",
    "\n",
    "    \n",
    "    all_players, top_2, bottom_2 = get_club_players(df_teams)  # df_club_list, df_top_2_players, df_bottom_2_players\n",
    "\n",
    "    # looping throught 2 player names in 'top_2'\n",
    "    for idx, player in enumerate(bottom_2.Name):\n",
    "\n",
    "        # getting 'index' for player in 'df_teams' DF\n",
    "        input_player_index = df_teams[df_teams['Name']==player].index.values[0]\n",
    "\n",
    "        # getting the 'Overall', 'Potential', and 'Field Position Num'\n",
    "        p_overall = df_teams.iloc[input_player_index]['Overall']\n",
    "        p_potential = df_teams.iloc[input_player_index]['Potential']\n",
    "        p_position = df_teams.iloc[input_player_index]['FieldPositionNum']\n",
    "\n",
    "        # getting 'Wage' for player in 'df_teams' DF\n",
    "        # to be used later for 'Post-trade Leftover Wage' in returned DF\n",
    "        input_player_wage = df_teams.iloc[input_player_index]['Wage']\n",
    "        players_wages.append(input_player_wage)\n",
    "\n",
    "        # getting 'row' for same player in 'df_attributes' using index (No 'Name' col in 'df_attributes')\n",
    "        player_attributes = df_attributes.iloc[input_player_index]\n",
    "\n",
    "        # filtering weak attributes logic:\n",
    "        filtered_weak_attributes = df_attributes[(df_attributes['Overall'] < 90) \n",
    "                                                 & (df_attributes['Potential'] > p_potential)\n",
    "                                                 & (df_attributes['Potential'] < 89)\n",
    "                                                 & (df_attributes['FieldPositionNum'] == p_position)]\n",
    "\n",
    "        suggested_players = filtered_weak_attributes.corrwith(player_attributes, axis=1)\n",
    "        suggested_players = suggested_players.sort_values(ascending=False).head(3)\n",
    "\n",
    "        cols = ['Name', 'Position', 'OvervalueRatio', 'Overall', 'Potential', 'Wage']\n",
    "        for i, corr in enumerate(suggested_players):\n",
    "            if idx == 0:\n",
    "                # player 1 - suggested replacements\n",
    "                replacements_p1.append(data[data.index==suggested_players.index[i]][cols].values)\n",
    "            else:\n",
    "                # player 2 - suggested replacements                 \n",
    "                replacements_p2.append(data[data.index==suggested_players.index[i]][cols].values)\n",
    "\n",
    "    cols1 = ['Name', 'Position', 'OvervalueRatio', 'OverallRating', 'PotentialRating', 'Wage']\n",
    "    \n",
    "    # suggested replacements DF for player 1 - dropping 1st row (most positively correlated = same as player 1)\n",
    "    replacements_p1_df = pd.DataFrame(np.row_stack(replacements_p1), columns=cols1)\n",
    "    replacements_p1_df = replacements_p1_df.drop(replacements_p1_df.index[0]).reset_index(drop=True)\n",
    "    \n",
    "    # suggested replacements DF for player 2 - dropping 1st row (most positively correlated = same as player 2)\n",
    "    replacements_p2_df = pd.DataFrame(np.row_stack(replacements_p2), columns=cols1)\n",
    "    replacements_p2_df = replacements_p2_df.drop(replacements_p2_df.index[0]).reset_index(drop=True)\n",
    "    \n",
    "    #adding 'Post-trade Leftover Wage' column to each returned DF\n",
    "    replacements_p1_df['Post-tradeLeftoverWage'] = players_wages[0] - replacements_p1_df['Wage']\n",
    "    replacements_p2_df['Post-tradeLeftoverWage'] = players_wages[1] - replacements_p2_df['Wage']\n",
    "    \n",
    "    #print(replacements_p1_df, '\\n')\n",
    "    #print(replacements_p2_df)\n",
    "    \n",
    "    return replacements_p1_df, replacements_p2_df"
   ]
  },
  {
   "cell_type": "code",
   "execution_count": 161,
   "metadata": {},
   "outputs": [],
   "source": [
    "# All tables\n",
    "allplayers, top2overvalued, bottom2weak = get_club_players(df_teams)\n",
    "top_2, bottom_2, trades_p1_df, trades_p2_df = get_suggested_trades(df_teams)\n",
    "replacements_p1_df, replacements_p2_df = get_replacement_players(df_teams)\n",
    "\n",
    "# turning all tables into JSON\n",
    "top_2 = top_2.to_json(orient='records')\n",
    "bottom_2 = bottom_2.to_json(orient='records')\n",
    "trades_p1_df = trades_p1_df.to_json(orient='records')\n",
    "trades_p2_df = trades_p2_df.to_json(orient='records')\n",
    "replacements_p1_df = replacements_p1_df.to_json(orient='records')\n",
    "replacements_p2_df = replacements_p2_df.to_json(orient='records')\n",
    "\n",
    "\n",
    "def all_dfs_json():\n",
    "    json_dict = dict({'top2overvalued': top_2,\n",
    "                     'suggestedtrades' : [trades_p1_df, trades_p2_df], \n",
    "                    'bottom2weak': bottom_2,\n",
    "                     'suggestedreplacements': [replacements_p1_df, replacements_p2_df]})\n",
    "    return json.dumps(json_dict)"
   ]
  }
 ],
 "metadata": {
  "kernelspec": {
   "display_name": "Python 3",
   "language": "python",
   "name": "python3"
  },
  "language_info": {
   "codemirror_mode": {
    "name": "ipython",
    "version": 3
   },
   "file_extension": ".py",
   "mimetype": "text/x-python",
   "name": "python",
   "nbconvert_exporter": "python",
   "pygments_lexer": "ipython3",
   "version": "3.6.8"
  }
 },
 "nbformat": 4,
 "nbformat_minor": 2
}
